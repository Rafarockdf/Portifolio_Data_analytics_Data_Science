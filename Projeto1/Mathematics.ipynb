{
  "nbformat": 4,
  "nbformat_minor": 0,
  "metadata": {
    "colab": {
      "provenance": []
    },
    "kernelspec": {
      "name": "python3",
      "display_name": "Python 3"
    },
    "language_info": {
      "name": "python"
    }
  },
  "cells": [
    {
      "cell_type": "markdown",
      "source": [
        "##**Olá! Seja muito bem-vindo ao projeto da minha Biblioteca Matemática/Estatística em Python. Gostaria de lembrar que esta biblioteca foi desenvolvida como um meio de praticar e aplicar conceitos de matemática e estatística. Estou constantemente revisando e expandindo suas funcionalidades, assim como aprimorando as funções já existentes à medida que aprofundo meu conhecimento. Sinta-se à vontade para explorar e utilizar as ferramentas disponíveis. Seu feedback e sugestões são sempre bem-vindos e contribuem para o constante aperfeiçoamento desta biblioteca.**"
      ],
      "metadata": {
        "id": "w_O0ntNCL71M"
      }
    },
    {
      "cell_type": "markdown",
      "source": [
        "# Soma\n"
      ],
      "metadata": {
        "id": "LoGpI-52tGvV"
      }
    },
    {
      "cell_type": "markdown",
      "source": [
        "# Parametro a é o primeiro número, parametro b é o segundo número"
      ],
      "metadata": {
        "id": "gPAvU6y1Iul6"
      }
    },
    {
      "cell_type": "code",
      "source": [
        "def somar(*args):\n",
        "    sum=0\n",
        "    for i in args:\n",
        "      sum +=i\n",
        "    return sum\n"
      ],
      "metadata": {
        "id": "jJOZP4keOY-H"
      },
      "execution_count": 3,
      "outputs": []
    },
    {
      "cell_type": "code",
      "source": [
        "# Exemplo\n",
        "somar(5,5,5,7,8,9,10)"
      ],
      "metadata": {
        "colab": {
          "base_uri": "https://localhost:8080/"
        },
        "id": "u1d-KrsKLt9f",
        "outputId": "148dbf32-3899-45f0-d70c-661c0a71da83"
      },
      "execution_count": 5,
      "outputs": [
        {
          "output_type": "execute_result",
          "data": {
            "text/plain": [
              "49"
            ]
          },
          "metadata": {},
          "execution_count": 5
        }
      ]
    },
    {
      "cell_type": "markdown",
      "source": [
        "# Subtração"
      ],
      "metadata": {
        "id": "gUI-65D1I4bx"
      }
    },
    {
      "cell_type": "markdown",
      "source": [
        "#Parametro a é o primeiro número, parametro b é o segundo número"
      ],
      "metadata": {
        "id": "OAy4GFALI7qM"
      }
    },
    {
      "cell_type": "code",
      "source": [
        "def subtrair(a, b):\n",
        "    return float(a) - float(b)"
      ],
      "metadata": {
        "id": "28Z4ZWMEI4He"
      },
      "execution_count": null,
      "outputs": []
    },
    {
      "cell_type": "code",
      "source": [
        "# Exemplo\n",
        "subtrair(5,2)"
      ],
      "metadata": {
        "colab": {
          "base_uri": "https://localhost:8080/"
        },
        "id": "Xt9m9YHmLqbw",
        "outputId": "08acc924-be50-4298-90b5-a9e3e9046c50"
      },
      "execution_count": null,
      "outputs": [
        {
          "output_type": "execute_result",
          "data": {
            "text/plain": [
              "3.0"
            ]
          },
          "metadata": {},
          "execution_count": 35
        }
      ]
    },
    {
      "cell_type": "markdown",
      "source": [
        "# Divisão"
      ],
      "metadata": {
        "id": "ijstX9-QJA5a"
      }
    },
    {
      "cell_type": "markdown",
      "source": [
        "#Parametro a é o primeiro número, parametro b é o segundo número"
      ],
      "metadata": {
        "id": "v3uRE1AoJDh3"
      }
    },
    {
      "cell_type": "code",
      "source": [
        "def dividir(a, b):\n",
        "    if b==0:\n",
        "        return 0\n",
        "    return  float(a) / float(b)"
      ],
      "metadata": {
        "id": "Q43irg08JMTs"
      },
      "execution_count": null,
      "outputs": []
    },
    {
      "cell_type": "code",
      "source": [
        "# Exemplo\n",
        "dividir(12,6)"
      ],
      "metadata": {
        "colab": {
          "base_uri": "https://localhost:8080/"
        },
        "id": "cAUfu9dcLhxT",
        "outputId": "3ef323e8-8466-48b9-9cf9-c8dc72f402f4"
      },
      "execution_count": null,
      "outputs": [
        {
          "output_type": "execute_result",
          "data": {
            "text/plain": [
              "2.0"
            ]
          },
          "metadata": {},
          "execution_count": 32
        }
      ]
    },
    {
      "cell_type": "markdown",
      "source": [
        "#Multiplicação"
      ],
      "metadata": {
        "id": "dv2DPVNxJRNx"
      }
    },
    {
      "cell_type": "markdown",
      "source": [
        "#Parametro a é o primeiro número, parametro b é o segundo número"
      ],
      "metadata": {
        "id": "PWlNqeEoJWL5"
      }
    },
    {
      "cell_type": "code",
      "source": [
        "def multiplicar(*args):\n",
        "      multiplicar=0\n",
        "      for i in args:\n",
        "        multiplicar=multiplicar*i\n",
        "      return multiplicar"
      ],
      "metadata": {
        "id": "-pBkdYFlJZdx"
      },
      "execution_count": null,
      "outputs": []
    },
    {
      "cell_type": "code",
      "source": [
        "# Exemplo\n",
        "multiplicar(2,3)"
      ],
      "metadata": {
        "colab": {
          "base_uri": "https://localhost:8080/"
        },
        "id": "OEPiLbX0Lcfa",
        "outputId": "3453690e-5dfa-4a25-e27c-48c3cf827264"
      },
      "execution_count": null,
      "outputs": [
        {
          "output_type": "execute_result",
          "data": {
            "text/plain": [
              "6.0"
            ]
          },
          "metadata": {},
          "execution_count": 29
        }
      ]
    },
    {
      "cell_type": "markdown",
      "source": [
        "#Potência\n"
      ],
      "metadata": {
        "id": "6MruU638JYFI"
      }
    },
    {
      "cell_type": "markdown",
      "source": [
        "#Parametro a é o número, parametro b é a potência a qual o número será elevado"
      ],
      "metadata": {
        "id": "EpM1T1UIJUQD"
      }
    },
    {
      "cell_type": "code",
      "source": [
        "def potencia(a, b):\n",
        "    return float(a) ** float(b)"
      ],
      "metadata": {
        "id": "1N8a0LwsJy8I"
      },
      "execution_count": null,
      "outputs": []
    },
    {
      "cell_type": "code",
      "source": [
        "# Exemplo\n",
        "potencia(2,4)"
      ],
      "metadata": {
        "colab": {
          "base_uri": "https://localhost:8080/"
        },
        "id": "5nmAymHgLWuG",
        "outputId": "f9ee7470-bf07-4d30-db03-63f1106ee110"
      },
      "execution_count": null,
      "outputs": [
        {
          "output_type": "execute_result",
          "data": {
            "text/plain": [
              "16.0"
            ]
          },
          "metadata": {},
          "execution_count": 26
        }
      ]
    },
    {
      "cell_type": "markdown",
      "source": [
        "#Porcentagem"
      ],
      "metadata": {
        "id": "T-P3nt-6J3Jo"
      }
    },
    {
      "cell_type": "markdown",
      "source": [
        "#Parâmetro a número que queira qualcular a porcentagem e b é valo da porcentagem: b%"
      ],
      "metadata": {
        "id": "h987k42dJ3cA"
      }
    },
    {
      "cell_type": "code",
      "source": [
        "def porcentagem(a,b):\n",
        "    return float(a) * float(b/100)"
      ],
      "metadata": {
        "id": "ENfT-0y8J3si"
      },
      "execution_count": null,
      "outputs": []
    },
    {
      "cell_type": "code",
      "source": [
        "# Exemplo\n",
        "porcentagem(100,10)\n"
      ],
      "metadata": {
        "colab": {
          "base_uri": "https://localhost:8080/"
        },
        "id": "8cb_up-yLAY6",
        "outputId": "c846e5c7-f866-4805-eafa-2e799e6e6d2b"
      },
      "execution_count": null,
      "outputs": [
        {
          "output_type": "execute_result",
          "data": {
            "text/plain": [
              "10.0"
            ]
          },
          "metadata": {},
          "execution_count": 23
        }
      ]
    },
    {
      "cell_type": "markdown",
      "source": [
        "#Média"
      ],
      "metadata": {
        "id": "57b-fbpCRqOr"
      }
    },
    {
      "cell_type": "markdown",
      "source": [
        "# Parâmetro a é quantidade de números que deseja fazer a media, após isso será pedido os números um por vez e terá como retorno a média"
      ],
      "metadata": {
        "id": "43Oy5DPADsie"
      }
    },
    {
      "cell_type": "code",
      "source": [
        "def media(*a):\n",
        "  soma=0\n",
        "  qtd=len(a)\n",
        "  for i in a:\n",
        "    soma+=i\n",
        "  media = soma/qtd\n",
        "  return media"
      ],
      "metadata": {
        "id": "KyoIezJr0hXJ"
      },
      "execution_count": 6,
      "outputs": []
    },
    {
      "cell_type": "code",
      "source": [
        "# Exemplo\n",
        "x =media(5,7,8,9,10)\n",
        "x\n"
      ],
      "metadata": {
        "colab": {
          "base_uri": "https://localhost:8080/"
        },
        "id": "EyYtFKHpKoVC",
        "outputId": "5c4e3243-c244-4d90-acf1-adf83961cb5f"
      },
      "execution_count": 7,
      "outputs": [
        {
          "output_type": "execute_result",
          "data": {
            "text/plain": [
              "7.8"
            ]
          },
          "metadata": {},
          "execution_count": 7
        }
      ]
    },
    {
      "cell_type": "markdown",
      "source": [
        "#Média ponderada"
      ],
      "metadata": {
        "id": "aK5UneNhRk3U"
      }
    },
    {
      "cell_type": "markdown",
      "source": [
        "## Parâmetro a é quantidade de números que deseja fazer a media, após isso será pedido um número e o seu respectivo peso por vez."
      ],
      "metadata": {
        "id": "QDpC1WxOEelN"
      }
    },
    {
      "cell_type": "code",
      "source": [
        "def media_ponderada(a):\n",
        "  c = 1\n",
        "  soma = 0\n",
        "  soma_pesos = 0\n",
        "  while(a >= c):\n",
        "    b = float(input('Digite os valores para a média: '))\n",
        "    P = int(input('Digite o peso: '))\n",
        "    soma_pesos = soma_pesos + P\n",
        "    peso = b * P\n",
        "    soma = soma + peso\n",
        "    c += 1\n",
        "  media = soma/soma_pesos\n",
        "  return media"
      ],
      "metadata": {
        "id": "MUA1OYk1LHTm"
      },
      "execution_count": null,
      "outputs": []
    },
    {
      "cell_type": "code",
      "source": [
        "# Exemplo\n",
        "x = media_ponderada(2)\n",
        "x"
      ],
      "metadata": {
        "colab": {
          "base_uri": "https://localhost:8080/"
        },
        "id": "bEC-GT-NMLCb",
        "outputId": "fa3a8277-7103-4988-8401-c599793e45db"
      },
      "execution_count": null,
      "outputs": [
        {
          "name": "stdout",
          "output_type": "stream",
          "text": [
            "Digite os valores para a média: 5\n",
            "Digite o peso: 2\n",
            "Digite os valores para a média: 8\n",
            "Digite o peso: 3\n"
          ]
        },
        {
          "output_type": "execute_result",
          "data": {
            "text/plain": [
              "6.8"
            ]
          },
          "metadata": {},
          "execution_count": 6
        }
      ]
    },
    {
      "cell_type": "markdown",
      "source": [
        "#Mediana"
      ],
      "metadata": {
        "id": "wmb79MCPRsaD"
      }
    },
    {
      "cell_type": "markdown",
      "source": [
        "# Parametro array é a lista de valores que queira descobrir a mediana"
      ],
      "metadata": {
        "id": "uuHoTUo4E2FM"
      }
    },
    {
      "cell_type": "code",
      "source": [
        "def mediana(array):\n",
        "  lista2 = []\n",
        "  lista = array\n",
        "  lista1 = sorted(lista)\n",
        "  a = len(lista1)\n",
        "  b = a // 2\n",
        "  if a % 2 ==0:\n",
        "    lista2.append(lista1[b])\n",
        "    lista2.append(lista1[b-1])\n",
        "  else:\n",
        "    lista2.append(lista1[b])\n",
        "  return lista2"
      ],
      "metadata": {
        "id": "eoBw6wC8NxBl"
      },
      "execution_count": null,
      "outputs": []
    },
    {
      "cell_type": "code",
      "source": [
        "# Exemplo\n",
        "c = [10,7,0,9,7,4,3,2,5,6]\n",
        "x = mediana(c)\n",
        "x\n"
      ],
      "metadata": {
        "id": "Hi56tiH9S46x",
        "colab": {
          "base_uri": "https://localhost:8080/"
        },
        "outputId": "98ed4fb8-cdc2-472a-f4a4-44b407534716"
      },
      "execution_count": null,
      "outputs": [
        {
          "output_type": "execute_result",
          "data": {
            "text/plain": [
              "[6, 5]"
            ]
          },
          "metadata": {},
          "execution_count": 9
        }
      ]
    },
    {
      "cell_type": "markdown",
      "source": [
        "#Moda"
      ],
      "metadata": {
        "id": "2mi2kvm_FND0"
      }
    },
    {
      "cell_type": "markdown",
      "source": [
        "# Parâmetro array é a lista de valores que queira descobrir a mediana"
      ],
      "metadata": {
        "id": "nVG5LvxNFOMw"
      }
    },
    {
      "cell_type": "code",
      "source": [
        "def moda(array):\n",
        "  maior = 0\n",
        "  lista = array\n",
        "  for i in lista:\n",
        "    if i > maior:\n",
        "      maior = i\n",
        "  return maior\n",
        "\n"
      ],
      "metadata": {
        "id": "UF35eIf82Z5M"
      },
      "execution_count": null,
      "outputs": []
    },
    {
      "cell_type": "code",
      "source": [
        "# Exemplo\n",
        "c = [10,7,0,9,7,4,3,2,5,6,1000]\n",
        "x = moda(c)\n",
        "x"
      ],
      "metadata": {
        "colab": {
          "base_uri": "https://localhost:8080/"
        },
        "id": "Jxj9_CSB22wr",
        "outputId": "3f6ffa6b-d4d0-4d2e-d379-7bb2a12830d6"
      },
      "execution_count": null,
      "outputs": [
        {
          "output_type": "execute_result",
          "data": {
            "text/plain": [
              "1000"
            ]
          },
          "metadata": {},
          "execution_count": 12
        }
      ]
    },
    {
      "cell_type": "markdown",
      "source": [
        "#Função que converte decimais para binários\n"
      ],
      "metadata": {
        "id": "ktsH8LA4tQo-"
      }
    },
    {
      "cell_type": "markdown",
      "source": [
        "# Parâmetro x indica o número em base decimal que queira tranformar para base binário"
      ],
      "metadata": {
        "id": "gRjzhQtsFdfF"
      }
    },
    {
      "cell_type": "code",
      "source": [
        "def decimal_binario(x):\n",
        "  lista = []\n",
        "  cont = 0\n",
        "  while(x / 2 > 0):\n",
        "    aux = x % 2\n",
        "    x = x // 2\n",
        "    lista.append(aux)\n",
        "    cont = cont + 1\n",
        "  lista.reverse()\n",
        "  for i in lista:\n",
        "     print(i)\n",
        "\n",
        "\n",
        "\n"
      ],
      "metadata": {
        "id": "hwcTo8ZmtZil"
      },
      "execution_count": null,
      "outputs": []
    },
    {
      "cell_type": "code",
      "source": [
        "# Exemplo\n",
        "x = decimal_binario(50)\n",
        "x"
      ],
      "metadata": {
        "colab": {
          "base_uri": "https://localhost:8080/"
        },
        "id": "sP6D2-y2vUJ3",
        "outputId": "e87d5212-cb91-49a2-940d-c159f549f12c"
      },
      "execution_count": null,
      "outputs": [
        {
          "output_type": "stream",
          "name": "stdout",
          "text": [
            "1\n",
            "1\n",
            "0\n",
            "0\n",
            "1\n",
            "0\n"
          ]
        }
      ]
    },
    {
      "cell_type": "markdown",
      "source": [
        "#Função que converte decimais para ocatal"
      ],
      "metadata": {
        "id": "VA-iMXPYDD1p"
      }
    },
    {
      "cell_type": "markdown",
      "source": [
        "# Parâmetro x indica o número em base decimal que queira tranformar para base octal"
      ],
      "metadata": {
        "id": "M-gy750VF8bp"
      }
    },
    {
      "cell_type": "code",
      "source": [
        "def decimal_octal(x):\n",
        "  lista = []\n",
        "  cont = 0\n",
        "  while(x / 8 > 0):\n",
        "    aux = x % 8\n",
        "    x = x // 8\n",
        "    lista.append(aux)\n",
        "    cont = cont + 1\n",
        "  lista.reverse()\n",
        "  for i in lista:\n",
        "    print(i)"
      ],
      "metadata": {
        "id": "CnqcPyxU_43e"
      },
      "execution_count": null,
      "outputs": []
    },
    {
      "cell_type": "code",
      "source": [
        "# Exemplo\n",
        "decimal_octal(50)"
      ],
      "metadata": {
        "colab": {
          "base_uri": "https://localhost:8080/"
        },
        "id": "Ajp65zQQ_9Wp",
        "outputId": "325c5565-c6e3-4969-b468-3d7a6849eb37"
      },
      "execution_count": null,
      "outputs": [
        {
          "output_type": "stream",
          "name": "stdout",
          "text": [
            "6\n",
            "2\n"
          ]
        }
      ]
    },
    {
      "cell_type": "markdown",
      "source": [
        "#Função que converte decimais para hexadecimal"
      ],
      "metadata": {
        "id": "1LHtoZIGDGOY"
      }
    },
    {
      "cell_type": "markdown",
      "source": [
        "# Parâmetro x indica o número em base decimal que queira tranformar para base hexadecimal"
      ],
      "metadata": {
        "id": "ywBbs-SvGFe_"
      }
    },
    {
      "cell_type": "code",
      "source": [
        "def decimal_hexadecimal(x):\n",
        "  lista = []\n",
        "  cont = 0\n",
        "  while(x / 16 > 0):\n",
        "    aux = x % 16\n",
        "    x = x // 16\n",
        "    lista.append(aux)\n",
        "    cont = cont + 1\n",
        "  lista.reverse()\n",
        "  for i in lista:\n",
        "    print(i)"
      ],
      "metadata": {
        "id": "veKa8f_ZCVoK"
      },
      "execution_count": null,
      "outputs": []
    },
    {
      "cell_type": "code",
      "source": [
        "# Exemplo\n",
        "decimal_hexadecimal(50)"
      ],
      "metadata": {
        "colab": {
          "base_uri": "https://localhost:8080/"
        },
        "id": "2wpZSl3nCf2x",
        "outputId": "c1b51d9b-35da-48fa-84a2-d7303b85a194"
      },
      "execution_count": null,
      "outputs": [
        {
          "output_type": "stream",
          "name": "stdout",
          "text": [
            "3\n",
            "2\n"
          ]
        }
      ]
    },
    {
      "cell_type": "markdown",
      "source": [
        "#Função que tranforma de binário para decimal"
      ],
      "metadata": {
        "id": "dLcPtfQTON6N"
      }
    },
    {
      "cell_type": "markdown",
      "source": [
        "# Parâmetro x indica o número em base binário que queira tranformar para decimal"
      ],
      "metadata": {
        "id": "cOEN_ileGDX2"
      }
    },
    {
      "cell_type": "code",
      "source": [
        "def binario_decimal(x):\n",
        "  lista = []\n",
        "  z = 1\n",
        "  soma = 0\n",
        "  for i in range(x):\n",
        "    y = int(input(f'Digite o {z}º número: '))\n",
        "    lista.append(y)\n",
        "    z += 1\n",
        "  x = x - 1\n",
        "  for i in lista:\n",
        "    w = i*2**x\n",
        "    soma += w\n",
        "    x = x - 1\n",
        "  print(soma)"
      ],
      "metadata": {
        "id": "cKECGQRL9Kef"
      },
      "execution_count": null,
      "outputs": []
    },
    {
      "cell_type": "code",
      "source": [
        "# Exemplo\n",
        "binario_decimal(6)"
      ],
      "metadata": {
        "colab": {
          "base_uri": "https://localhost:8080/"
        },
        "id": "M-a3SJN4FF3x",
        "outputId": "16480769-391d-4bf4-e210-c697af2c8166"
      },
      "execution_count": null,
      "outputs": [
        {
          "output_type": "stream",
          "name": "stdout",
          "text": [
            "Digite o 1º número: 4\n",
            "Digite o 2º número: 6\n",
            "Digite o 3º número: 5\n",
            "Digite o 4º número: 4\n",
            "Digite o 5º número: 3\n",
            "Digite o 6º número: 2\n",
            "288\n"
          ]
        }
      ]
    },
    {
      "cell_type": "markdown",
      "source": [
        "#Função que tranforma de octal para decimal"
      ],
      "metadata": {
        "id": "hTryK1NJOk-_"
      }
    },
    {
      "cell_type": "markdown",
      "source": [
        "# Parâmetro x indica a quantidade de números que a base octal possui, depois pede para inserir um por um para que tranforme para base decimal"
      ],
      "metadata": {
        "id": "W4JGjJkeGVqS"
      }
    },
    {
      "cell_type": "code",
      "source": [
        "def octal_decimal(x):\n",
        "  lista = []\n",
        "  z = 1\n",
        "  soma = 0\n",
        "  for i in range(x):\n",
        "    y = int(input(f'Digite o {z}º número: '))\n",
        "    lista.append(y)\n",
        "    z += 1\n",
        "  x = x - 1\n",
        "  for i in lista:\n",
        "    w = i*8**x\n",
        "    soma += w\n",
        "    x = x - 1\n",
        "  print(soma)"
      ],
      "metadata": {
        "id": "jhYavneiIJ8N"
      },
      "execution_count": null,
      "outputs": []
    },
    {
      "cell_type": "code",
      "source": [
        "# Exemplo\n",
        "octal_decimal(6)"
      ],
      "metadata": {
        "colab": {
          "base_uri": "https://localhost:8080/"
        },
        "id": "X1g1YWWyIT9V",
        "outputId": "637db819-d4b5-409e-d31a-f3ae89a97289"
      },
      "execution_count": null,
      "outputs": [
        {
          "output_type": "stream",
          "name": "stdout",
          "text": [
            "Digite o 1º número: 0\n",
            "Digite o 2º número: 0\n",
            "Digite o 3º número: 0\n",
            "Digite o 4º número: 0\n",
            "Digite o 5º número: 5\n",
            "Digite o 6º número: 2\n",
            "42\n"
          ]
        }
      ]
    },
    {
      "cell_type": "markdown",
      "source": [
        "#Função que tranforma de hexadecimal para decimal"
      ],
      "metadata": {
        "id": "YSEy68i7Ottf"
      }
    },
    {
      "cell_type": "markdown",
      "source": [
        "# Parâmetro x indica a quantidade de números que a base hexadecimal possui, depois pede para inserir um por um para que tranforme para base decimal"
      ],
      "metadata": {
        "id": "rSdG37ZRGfqs"
      }
    },
    {
      "cell_type": "code",
      "source": [
        "def hexadecimal_decimal(x):\n",
        "  lista = []\n",
        "  z = 1\n",
        "  soma = 0\n",
        "  for i in range(x):\n",
        "    y = int(input(f'Digite o {z}º número: '))\n",
        "    lista.append(y)\n",
        "    z += 1\n",
        "  x = x - 1\n",
        "  for i in lista:\n",
        "    w = i*16**x\n",
        "    soma += w\n",
        "    x = x - 1\n",
        "  print(soma)"
      ],
      "metadata": {
        "id": "9QCpcSANI1ry"
      },
      "execution_count": null,
      "outputs": []
    },
    {
      "cell_type": "code",
      "source": [
        "# Exemplo\n",
        "hexadecimal_decimal(4)"
      ],
      "metadata": {
        "colab": {
          "base_uri": "https://localhost:8080/"
        },
        "id": "fbCldfdVI6IP",
        "outputId": "4450255b-cd73-460d-c0bd-00ca3982fc2f"
      },
      "execution_count": null,
      "outputs": [
        {
          "output_type": "stream",
          "name": "stdout",
          "text": [
            "Digite o 1º número: 10\n",
            "Digite o 2º número: 3\n",
            "Digite o 3º número: 7\n",
            "Digite o 4º número: 14\n",
            "41854\n"
          ]
        }
      ]
    },
    {
      "cell_type": "markdown",
      "source": [
        "#Função que tranforma de octal para binario"
      ],
      "metadata": {
        "id": "qQIWGQDgO0A0"
      }
    },
    {
      "cell_type": "markdown",
      "source": [
        "# Parâmetro x indica a quantidade de números que a base octal possui, depois pede para inserir um por um para que tranforme para base binário"
      ],
      "metadata": {
        "id": "a0E4dihZG9aC"
      }
    },
    {
      "cell_type": "code",
      "source": [
        "def octal_binario(x):\n",
        "  tabela =  {'0':'000',\n",
        "        '1':'001',\n",
        "        '2':'010',\n",
        "        '3':'011',\n",
        "        '4':'100',\n",
        "        '5':'101',\n",
        "        '6':'110',\n",
        "        '7':'111'}\n",
        "  z = 1\n",
        "  lista = []\n",
        "  for i in range(x):\n",
        "    y = input(f'Digite o {z}º número: ')\n",
        "    z +=1\n",
        "    for i in tabela:\n",
        "      lista.append(tabela[y])\n",
        "      break\n",
        "  for i in lista:\n",
        "    print(i)\n"
      ],
      "metadata": {
        "id": "htcCwvmXbS8I"
      },
      "execution_count": null,
      "outputs": []
    },
    {
      "cell_type": "code",
      "source": [
        "# Exemplo\n",
        "octal_binario(4)\n"
      ],
      "metadata": {
        "colab": {
          "base_uri": "https://localhost:8080/"
        },
        "id": "jMDezkc9s3eI",
        "outputId": "5d3630b4-5024-455f-c5f4-da0185cd46f3"
      },
      "execution_count": null,
      "outputs": [
        {
          "output_type": "stream",
          "name": "stdout",
          "text": [
            "Digite o 1º número: 5\n",
            "Digite o 2º número: 2\n",
            "Digite o 3º número: 5\n",
            "Digite o 4º número: 2\n",
            "101\n",
            "010\n",
            "101\n",
            "010\n"
          ]
        }
      ]
    },
    {
      "cell_type": "markdown",
      "source": [
        "#Função que tranforma de hexadecimal para binario"
      ],
      "metadata": {
        "id": "eZWw94yoO9GH"
      }
    },
    {
      "cell_type": "markdown",
      "source": [
        "# Parâmetro x indica a quantidade de números que a base hexadecimal possui, depois pede para inserir um por um para que tranforme para base binário"
      ],
      "metadata": {
        "id": "CJzTiztNHIM7"
      }
    },
    {
      "cell_type": "code",
      "source": [
        "def hexadecimal_binario(x):\n",
        "  tabela =  {'0':'0000',\n",
        "        '1':'0001',\n",
        "        '2':'0010',\n",
        "        '3':'0011',\n",
        "        '4':'0100',\n",
        "        '5':'0101',\n",
        "        '6':'0110',\n",
        "        '7':'0111',\n",
        "        '8':'1000',\n",
        "        '9':'1001',\n",
        "        'A':'1010',\n",
        "        'B':'1011',\n",
        "        'C':'1100',\n",
        "        'D':'1101',\n",
        "        'E':'1110',\n",
        "        'F':'1111'}\n",
        "  z = 1\n",
        "  lista = []\n",
        "  for i in range(x):\n",
        "    y = input(f'Digite o {z}º número: ')\n",
        "    z +=1\n",
        "    for i in tabela:\n",
        "      lista.append(tabela[y])\n",
        "      break\n",
        "  for i in lista:\n",
        "    print(i)\n"
      ],
      "metadata": {
        "id": "qglgi7Ebx__j"
      },
      "execution_count": null,
      "outputs": []
    },
    {
      "cell_type": "code",
      "source": [
        "# Exemplo\n",
        "hexadecimal_binario(3)"
      ],
      "metadata": {
        "colab": {
          "base_uri": "https://localhost:8080/"
        },
        "id": "hRRQrnps0RGE",
        "outputId": "a82703d9-da23-4c24-9404-c2064dd7cd75"
      },
      "execution_count": null,
      "outputs": [
        {
          "output_type": "stream",
          "name": "stdout",
          "text": [
            "Digite o 1º número: A\n",
            "Digite o 2º número: E\n",
            "Digite o 3º número: 9\n",
            "1010\n",
            "1110\n",
            "1001\n"
          ]
        }
      ]
    },
    {
      "cell_type": "markdown",
      "source": [
        "#Função que tranforma de binário para octal"
      ],
      "metadata": {
        "id": "azOWbrgDPBi9"
      }
    },
    {
      "cell_type": "markdown",
      "source": [
        "# Parâmetro x indica a quantidade de números que a base binário possui, depois pede para inserir de três em três começando pelo primeiro número para que tranforme para octal"
      ],
      "metadata": {
        "id": "qEbNbbZpHZGQ"
      }
    },
    {
      "cell_type": "code",
      "source": [
        "def binario_octal(x):\n",
        "  tabela =  {'000':'0',\n",
        "        '001':'1',\n",
        "        '010':'2',\n",
        "        '011':'3',\n",
        "        '100':'4',\n",
        "        '101':'5',\n",
        "        '110':'5',\n",
        "        '111':'7'}\n",
        "  z = 1\n",
        "  lista = []\n",
        "  for i in range(x):\n",
        "    y = input(f'Digite o {z}º número: ')\n",
        "    z +=1\n",
        "    for i in tabela:\n",
        "      lista.append(tabela[y])\n",
        "      break\n",
        "  for i in lista:\n",
        "    print(i)"
      ],
      "metadata": {
        "id": "0EeI351y0WGo"
      },
      "execution_count": null,
      "outputs": []
    },
    {
      "cell_type": "code",
      "source": [
        "# Exemplo\n",
        "binario_octal(4)"
      ],
      "metadata": {
        "colab": {
          "base_uri": "https://localhost:8080/"
        },
        "id": "fZmTWc7mCjj5",
        "outputId": "da482f38-a22d-499c-9850-47f76fd3803b"
      },
      "execution_count": null,
      "outputs": [
        {
          "output_type": "stream",
          "name": "stdout",
          "text": [
            "Digite o 1º número: 101\n",
            "Digite o 2º número: 010\n",
            "Digite o 3º número: 010\n",
            "Digite o 4º número: 101\n",
            "5\n",
            "2\n",
            "2\n",
            "5\n"
          ]
        }
      ]
    },
    {
      "cell_type": "markdown",
      "source": [
        "#Função que tranforma de binário para hexadecimal"
      ],
      "metadata": {
        "id": "2LH5JokjPIht"
      }
    },
    {
      "cell_type": "markdown",
      "source": [
        "# Parâmetro x indica a quantidade de números que a base binário possui, depois pede para inserir de quatro em quatro começando pelo primeiro número para que tranforme para hexadecimal"
      ],
      "metadata": {
        "id": "A5wg3-UyICBn"
      }
    },
    {
      "cell_type": "code",
      "source": [
        "def binario_hexadecimal(x):\n",
        "  tabela =  {'0000':'0',\n",
        "        '0001':'1',\n",
        "        '0010':'2',\n",
        "        '0011':'3',\n",
        "        '0100':'4',\n",
        "        '0101':'5',\n",
        "        '0110':'6',\n",
        "        '0111':'7',\n",
        "        '1000':'8',\n",
        "        '1001':'9',\n",
        "        '1010':'A',\n",
        "        '1011':'B',\n",
        "        '1100':'C',\n",
        "        '1101':'D',\n",
        "        '1110':'E',\n",
        "        '1111':'F'}\n",
        "  z = 1\n",
        "  lista = []\n",
        "  for i in range(x):\n",
        "    y = input(f'Digite o {z}º número: ')\n",
        "    z +=1\n",
        "    for i in tabela:\n",
        "      lista.append(tabela[y])\n",
        "      break\n",
        "  for i in lista:\n",
        "    print(i)\n"
      ],
      "metadata": {
        "id": "-DbPpQQCDBq8"
      },
      "execution_count": null,
      "outputs": []
    },
    {
      "cell_type": "code",
      "source": [
        "# Exemplo\n",
        "binario_hexadecimal(3)"
      ],
      "metadata": {
        "colab": {
          "base_uri": "https://localhost:8080/"
        },
        "id": "WRBnWFdpDfz-",
        "outputId": "6afece6a-3267-4e01-9e00-26877f3cc4a9"
      },
      "execution_count": null,
      "outputs": [
        {
          "output_type": "stream",
          "name": "stdout",
          "text": [
            "Digite o 1º número: 1010\n",
            "Digite o 2º número: 1110\n",
            "Digite o 3º número: 1001\n",
            "A\n",
            "E\n",
            "9\n"
          ]
        }
      ]
    }
  ]
}